{
  "metadata": {
    "kernelspec": {
      "language": "python",
      "display_name": "Python 3",
      "name": "python3"
    },
    "language_info": {
      "pygments_lexer": "ipython3",
      "nbconvert_exporter": "python",
      "version": "3.6.4",
      "file_extension": ".py",
      "codemirror_mode": {
        "name": "ipython",
        "version": 3
      },
      "name": "python",
      "mimetype": "text/x-python"
    },
    "colab": {
      "provenance": [],
      "include_colab_link": true
    }
  },
  "nbformat_minor": 0,
  "nbformat": 4,
  "cells": [
    {
      "cell_type": "markdown",
      "metadata": {
        "id": "view-in-github",
        "colab_type": "text"
      },
      "source": [
        "<a href=\"https://colab.research.google.com/github/Prathamesh-Chavan-98/-Next-Word-Prediction-Using-LSTM-on-News-Headlines/blob/main/Next_Word_Prediction_Using_LSTM_on_News_Headlines.ipynb\" target=\"_parent\"><img src=\"https://colab.research.google.com/assets/colab-badge.svg\" alt=\"Open In Colab\"/></a>"
      ]
    },
    {
      "source": [
        "\n",
        "# IMPORTANT: RUN THIS CELL IN ORDER TO IMPORT YOUR KAGGLE DATA SOURCES\n",
        "# TO THE CORRECT LOCATION (/kaggle/input) IN YOUR NOTEBOOK,\n",
        "# THEN FEEL FREE TO DELETE THIS CELL.\n",
        "# NOTE: THIS NOTEBOOK ENVIRONMENT DIFFERS FROM KAGGLE'S PYTHON\n",
        "# ENVIRONMENT SO THERE MAY BE MISSING LIBRARIES USED BY YOUR\n",
        "# NOTEBOOK.\n",
        "\n",
        "import os\n",
        "import sys\n",
        "from tempfile import NamedTemporaryFile\n",
        "from urllib.request import urlopen\n",
        "from urllib.parse import unquote, urlparse\n",
        "from urllib.error import HTTPError\n",
        "from zipfile import ZipFile\n",
        "import tarfile\n",
        "import shutil\n",
        "\n",
        "CHUNK_SIZE = 40960\n",
        "DATA_SOURCE_MAPPING = 'us-crime-data:https%3A%2F%2Fstorage.googleapis.com%2Fkaggle-data-sets%2F2832232%2F4884532%2Fbundle%2Farchive.zip%3FX-Goog-Algorithm%3DGOOG4-RSA-SHA256%26X-Goog-Credential%3Dgcp-kaggle-com%2540kaggle-161607.iam.gserviceaccount.com%252F20240611%252Fauto%252Fstorage%252Fgoog4_request%26X-Goog-Date%3D20240611T103807Z%26X-Goog-Expires%3D259200%26X-Goog-SignedHeaders%3Dhost%26X-Goog-Signature%3D132d23869fe838e9ec8f57d66ebe2c6dfe99caf2d1f5e7a82424f01f6b666e1a3b5e8b3507f9327750f314037861d29d9456a795163ebf175dfa9f848e067f754ea7f05fadf6ecd630c66ca0a768374b01538b742b54a565c67fc66c3b484dac55ca8119acb22f3ef3890b6b064b4f343404df30600bbb8023587609be36a105e68346a3816a4ead645dfda63bf1fca30080d2e7853ebecd554bff6af350a0ffe8da8e50db90483503f934a13950f23b42ab6dcbbaa136ca97b4c796ee740eedc3b92c3f27b6a7fad2899c9fdadf7f0ae32e2e3c46818119c5b94521d3a9a32604ba2dd2a635e5837872d511a7a9396ede8e6bbcbf9c190e30be9f9c92c15f8e'\n",
        "\n",
        "KAGGLE_INPUT_PATH='/kaggle/input'\n",
        "KAGGLE_WORKING_PATH='/kaggle/working'\n",
        "KAGGLE_SYMLINK='kaggle'\n",
        "\n",
        "!umount /kaggle/input/ 2> /dev/null\n",
        "shutil.rmtree('/kaggle/input', ignore_errors=True)\n",
        "os.makedirs(KAGGLE_INPUT_PATH, 0o777, exist_ok=True)\n",
        "os.makedirs(KAGGLE_WORKING_PATH, 0o777, exist_ok=True)\n",
        "\n",
        "try:\n",
        "  os.symlink(KAGGLE_INPUT_PATH, os.path.join(\"..\", 'input'), target_is_directory=True)\n",
        "except FileExistsError:\n",
        "  pass\n",
        "try:\n",
        "  os.symlink(KAGGLE_WORKING_PATH, os.path.join(\"..\", 'working'), target_is_directory=True)\n",
        "except FileExistsError:\n",
        "  pass\n",
        "\n",
        "for data_source_mapping in DATA_SOURCE_MAPPING.split(','):\n",
        "    directory, download_url_encoded = data_source_mapping.split(':')\n",
        "    download_url = unquote(download_url_encoded)\n",
        "    filename = urlparse(download_url).path\n",
        "    destination_path = os.path.join(KAGGLE_INPUT_PATH, directory)\n",
        "    try:\n",
        "        with urlopen(download_url) as fileres, NamedTemporaryFile() as tfile:\n",
        "            total_length = fileres.headers['content-length']\n",
        "            print(f'Downloading {directory}, {total_length} bytes compressed')\n",
        "            dl = 0\n",
        "            data = fileres.read(CHUNK_SIZE)\n",
        "            while len(data) > 0:\n",
        "                dl += len(data)\n",
        "                tfile.write(data)\n",
        "                done = int(50 * dl / int(total_length))\n",
        "                sys.stdout.write(f\"\\r[{'=' * done}{' ' * (50-done)}] {dl} bytes downloaded\")\n",
        "                sys.stdout.flush()\n",
        "                data = fileres.read(CHUNK_SIZE)\n",
        "            if filename.endswith('.zip'):\n",
        "              with ZipFile(tfile) as zfile:\n",
        "                zfile.extractall(destination_path)\n",
        "            else:\n",
        "              with tarfile.open(tfile.name) as tarfile:\n",
        "                tarfile.extractall(destination_path)\n",
        "            print(f'\\nDownloaded and uncompressed: {directory}')\n",
        "    except HTTPError as e:\n",
        "        print(f'Failed to load (likely expired) {download_url} to path {destination_path}')\n",
        "        continue\n",
        "    except OSError as e:\n",
        "        print(f'Failed to load {download_url} to path {destination_path}')\n",
        "        continue\n",
        "\n",
        "print('Data source import complete.')\n"
      ],
      "metadata": {
        "id": "IElYuwX24GPJ"
      },
      "cell_type": "code",
      "outputs": [],
      "execution_count": null
    },
    {
      "cell_type": "code",
      "source": [
        "import pandas as pd\n",
        "import numpy as np\n",
        "import tensorflow as tf\n",
        "import string\n",
        "import re\n"
      ],
      "metadata": {
        "execution": {
          "iopub.status.busy": "2023-01-25T11:04:43.786015Z",
          "iopub.execute_input": "2023-01-25T11:04:43.786388Z",
          "iopub.status.idle": "2023-01-25T11:04:43.791223Z",
          "shell.execute_reply.started": "2023-01-25T11:04:43.786356Z",
          "shell.execute_reply": "2023-01-25T11:04:43.790198Z"
        },
        "trusted": true,
        "id": "-O6nVkv64GPR"
      },
      "execution_count": null,
      "outputs": []
    },
    {
      "cell_type": "code",
      "source": [
        "data = pd.read_csv('/kaggle/input/us-crime-data/US_Crime_Data.csv')\n",
        "data.sample(10)"
      ],
      "metadata": {
        "execution": {
          "iopub.status.busy": "2023-01-25T11:04:43.805306Z",
          "iopub.execute_input": "2023-01-25T11:04:43.807328Z",
          "iopub.status.idle": "2023-01-25T11:04:43.891633Z",
          "shell.execute_reply.started": "2023-01-25T11:04:43.807299Z",
          "shell.execute_reply": "2023-01-25T11:04:43.890633Z"
        },
        "trusted": true,
        "id": "lTHew6Wn4GPS"
      },
      "execution_count": null,
      "outputs": []
    },
    {
      "cell_type": "code",
      "source": [
        "data.isna().sum()"
      ],
      "metadata": {
        "execution": {
          "iopub.status.busy": "2023-01-25T11:04:43.893527Z",
          "iopub.execute_input": "2023-01-25T11:04:43.894155Z",
          "iopub.status.idle": "2023-01-25T11:04:43.905376Z",
          "shell.execute_reply.started": "2023-01-25T11:04:43.894115Z",
          "shell.execute_reply": "2023-01-25T11:04:43.904125Z"
        },
        "trusted": true,
        "id": "7eMw2nBq4GPS"
      },
      "execution_count": null,
      "outputs": []
    },
    {
      "cell_type": "markdown",
      "source": [
        "## For this model we just need headlines"
      ],
      "metadata": {
        "id": "QtrS99c44GPT"
      }
    },
    {
      "cell_type": "code",
      "source": [
        "df = data[['Title']]\n",
        "df = df.dropna().reset_index(drop = True)\n",
        "df.head()"
      ],
      "metadata": {
        "execution": {
          "iopub.status.busy": "2023-01-25T11:04:43.907277Z",
          "iopub.execute_input": "2023-01-25T11:04:43.907733Z",
          "iopub.status.idle": "2023-01-25T11:04:43.921431Z",
          "shell.execute_reply.started": "2023-01-25T11:04:43.907676Z",
          "shell.execute_reply": "2023-01-25T11:04:43.920184Z"
        },
        "trusted": true,
        "id": "OseMqCBv4GPV"
      },
      "execution_count": null,
      "outputs": []
    },
    {
      "cell_type": "code",
      "source": [
        "df['Title'][123]"
      ],
      "metadata": {
        "execution": {
          "iopub.status.busy": "2023-01-25T11:04:43.924103Z",
          "iopub.execute_input": "2023-01-25T11:04:43.924457Z",
          "iopub.status.idle": "2023-01-25T11:04:43.93057Z",
          "shell.execute_reply.started": "2023-01-25T11:04:43.924423Z",
          "shell.execute_reply": "2023-01-25T11:04:43.929494Z"
        },
        "trusted": true,
        "id": "WwGw7mSK4GPW"
      },
      "execution_count": null,
      "outputs": []
    },
    {
      "cell_type": "code",
      "source": [
        "df.shape"
      ],
      "metadata": {
        "execution": {
          "iopub.status.busy": "2023-01-25T11:04:43.932077Z",
          "iopub.execute_input": "2023-01-25T11:04:43.932485Z",
          "iopub.status.idle": "2023-01-25T11:04:43.941443Z",
          "shell.execute_reply.started": "2023-01-25T11:04:43.932448Z",
          "shell.execute_reply": "2023-01-25T11:04:43.940467Z"
        },
        "trusted": true,
        "id": "LWU27dCh4GPX"
      },
      "execution_count": null,
      "outputs": []
    },
    {
      "cell_type": "markdown",
      "source": [
        "# Removing Punctuations"
      ],
      "metadata": {
        "id": "y2PrwE8K4GPY"
      }
    },
    {
      "cell_type": "code",
      "source": [
        "def clean_text(df):\n",
        "    df['Title'] = df['Title'].apply(lambda x : x.lower())\n",
        "    tokens = df['Title'].str.replace('[{}]'.format(string.punctuation), '')\n",
        "    return tokens"
      ],
      "metadata": {
        "execution": {
          "iopub.status.busy": "2023-01-25T11:04:43.942887Z",
          "iopub.execute_input": "2023-01-25T11:04:43.943883Z",
          "iopub.status.idle": "2023-01-25T11:04:43.951056Z",
          "shell.execute_reply.started": "2023-01-25T11:04:43.943849Z",
          "shell.execute_reply": "2023-01-25T11:04:43.95002Z"
        },
        "trusted": true,
        "id": "YlV5JsSr4GPY"
      },
      "execution_count": null,
      "outputs": []
    },
    {
      "cell_type": "code",
      "source": [
        "tokens = clean_text(df)"
      ],
      "metadata": {
        "execution": {
          "iopub.status.busy": "2023-01-25T11:04:43.952415Z",
          "iopub.execute_input": "2023-01-25T11:04:43.953327Z",
          "iopub.status.idle": "2023-01-25T11:04:43.9716Z",
          "shell.execute_reply.started": "2023-01-25T11:04:43.953232Z",
          "shell.execute_reply": "2023-01-25T11:04:43.970602Z"
        },
        "trusted": true,
        "id": "BM0EfUjq4GPZ"
      },
      "execution_count": null,
      "outputs": []
    },
    {
      "cell_type": "code",
      "source": [
        "tokens"
      ],
      "metadata": {
        "execution": {
          "iopub.status.busy": "2023-01-25T11:04:43.973107Z",
          "iopub.execute_input": "2023-01-25T11:04:43.973778Z",
          "iopub.status.idle": "2023-01-25T11:04:43.985041Z",
          "shell.execute_reply.started": "2023-01-25T11:04:43.973744Z",
          "shell.execute_reply": "2023-01-25T11:04:43.983874Z"
        },
        "trusted": true,
        "id": "YPF2MGYE4GPZ"
      },
      "execution_count": null,
      "outputs": []
    },
    {
      "cell_type": "code",
      "source": [
        "len(set(tokens))"
      ],
      "metadata": {
        "execution": {
          "iopub.status.busy": "2023-01-25T11:04:43.986973Z",
          "iopub.execute_input": "2023-01-25T11:04:43.987316Z",
          "iopub.status.idle": "2023-01-25T11:04:43.996849Z",
          "shell.execute_reply.started": "2023-01-25T11:04:43.987282Z",
          "shell.execute_reply": "2023-01-25T11:04:43.995664Z"
        },
        "trusted": true,
        "id": "zQyC817w4GPa"
      },
      "execution_count": null,
      "outputs": []
    },
    {
      "cell_type": "markdown",
      "source": [
        "# Tokenizing"
      ],
      "metadata": {
        "id": "wq1eHVBH4GPa"
      }
    },
    {
      "cell_type": "code",
      "source": [
        "tokenizer = tf.keras.preprocessing.text.Tokenizer()\n",
        "tokenizer.fit_on_texts(tokens)\n",
        "seq = tokenizer.texts_to_sequences(tokens)"
      ],
      "metadata": {
        "execution": {
          "iopub.status.busy": "2023-01-25T11:58:58.578077Z",
          "iopub.execute_input": "2023-01-25T11:58:58.578486Z",
          "iopub.status.idle": "2023-01-25T11:58:58.773428Z",
          "shell.execute_reply.started": "2023-01-25T11:58:58.57843Z",
          "shell.execute_reply": "2023-01-25T11:58:58.772392Z"
        },
        "trusted": true,
        "id": "M5-kx95r4GPa"
      },
      "execution_count": null,
      "outputs": []
    },
    {
      "cell_type": "code",
      "source": [
        "seq[:10]"
      ],
      "metadata": {
        "execution": {
          "iopub.status.busy": "2023-01-25T11:59:03.63918Z",
          "iopub.execute_input": "2023-01-25T11:59:03.639539Z",
          "iopub.status.idle": "2023-01-25T11:59:03.648387Z",
          "shell.execute_reply.started": "2023-01-25T11:59:03.639509Z",
          "shell.execute_reply": "2023-01-25T11:59:03.647293Z"
        },
        "trusted": true,
        "id": "cDkVjEeN4GPa"
      },
      "execution_count": null,
      "outputs": []
    },
    {
      "cell_type": "markdown",
      "source": [
        "# Creating input and output data list"
      ],
      "metadata": {
        "id": "qlAOiHlp4GPb"
      }
    },
    {
      "cell_type": "code",
      "source": [
        "x = []\n",
        "y = []\n",
        "total_words_drop = 0\n",
        "for i in seq:\n",
        "    if len(i) > 1:\n",
        "        for j in range(1, len(i)):\n",
        "            x.append(i[:j])\n",
        "            y.append(i[j])\n",
        "\n",
        "    else :\n",
        "        total_words_drop +=1\n",
        "print('Total Words Dropped : {}'.format(total_words_drop))"
      ],
      "metadata": {
        "execution": {
          "iopub.status.busy": "2023-01-25T12:06:34.584844Z",
          "iopub.execute_input": "2023-01-25T12:06:34.585875Z",
          "iopub.status.idle": "2023-01-25T12:06:34.838249Z",
          "shell.execute_reply.started": "2023-01-25T12:06:34.585829Z",
          "shell.execute_reply": "2023-01-25T12:06:34.837088Z"
        },
        "trusted": true,
        "id": "dXYbpMCh4GPb"
      },
      "execution_count": null,
      "outputs": []
    },
    {
      "cell_type": "code",
      "source": [
        "y[: 10]"
      ],
      "metadata": {
        "execution": {
          "iopub.status.busy": "2023-01-25T12:07:06.369965Z",
          "iopub.execute_input": "2023-01-25T12:07:06.370522Z",
          "iopub.status.idle": "2023-01-25T12:07:06.37727Z",
          "shell.execute_reply.started": "2023-01-25T12:07:06.370486Z",
          "shell.execute_reply": "2023-01-25T12:07:06.376279Z"
        },
        "trusted": true,
        "id": "MjcmvwTI4GPb"
      },
      "execution_count": null,
      "outputs": []
    },
    {
      "cell_type": "markdown",
      "source": [
        "# Padding sequences"
      ],
      "metadata": {
        "id": "bQEKO8Hh4GPb"
      }
    },
    {
      "cell_type": "code",
      "source": [
        "x = tf.keras.preprocessing.sequence.pad_sequences(x)"
      ],
      "metadata": {
        "execution": {
          "iopub.status.busy": "2023-01-25T12:08:15.275658Z",
          "iopub.execute_input": "2023-01-25T12:08:15.276035Z",
          "iopub.status.idle": "2023-01-25T12:08:15.394972Z",
          "shell.execute_reply.started": "2023-01-25T12:08:15.275999Z",
          "shell.execute_reply": "2023-01-25T12:08:15.393998Z"
        },
        "trusted": true,
        "id": "3pXaS0244GPb"
      },
      "execution_count": null,
      "outputs": []
    },
    {
      "cell_type": "code",
      "source": [
        "x.shape"
      ],
      "metadata": {
        "execution": {
          "iopub.status.busy": "2023-01-25T12:08:36.60457Z",
          "iopub.execute_input": "2023-01-25T12:08:36.605192Z",
          "iopub.status.idle": "2023-01-25T12:08:36.611061Z",
          "shell.execute_reply.started": "2023-01-25T12:08:36.605153Z",
          "shell.execute_reply": "2023-01-25T12:08:36.610137Z"
        },
        "trusted": true,
        "id": "05nnxWkW4GPb"
      },
      "execution_count": null,
      "outputs": []
    },
    {
      "cell_type": "markdown",
      "source": [
        "# Shaping y same as x"
      ],
      "metadata": {
        "id": "ScxyXq724GPb"
      }
    },
    {
      "cell_type": "code",
      "source": [
        "y = tf.keras.utils.to_categorical(y)"
      ],
      "metadata": {
        "execution": {
          "iopub.status.busy": "2023-01-25T12:09:06.670901Z",
          "iopub.execute_input": "2023-01-25T12:09:06.671271Z",
          "iopub.status.idle": "2023-01-25T12:09:06.831884Z",
          "shell.execute_reply.started": "2023-01-25T12:09:06.67124Z",
          "shell.execute_reply": "2023-01-25T12:09:06.830855Z"
        },
        "trusted": true,
        "id": "Y5b5NTeo4GPc"
      },
      "execution_count": null,
      "outputs": []
    },
    {
      "cell_type": "code",
      "source": [
        "y.shape"
      ],
      "metadata": {
        "execution": {
          "iopub.status.busy": "2023-01-25T12:09:11.75955Z",
          "iopub.execute_input": "2023-01-25T12:09:11.760244Z",
          "iopub.status.idle": "2023-01-25T12:09:11.767875Z",
          "shell.execute_reply.started": "2023-01-25T12:09:11.760198Z",
          "shell.execute_reply": "2023-01-25T12:09:11.76674Z"
        },
        "trusted": true,
        "id": "47UW-ynh4GPc"
      },
      "execution_count": null,
      "outputs": []
    },
    {
      "cell_type": "markdown",
      "source": [
        "# Vocab Size : total no. of unique words"
      ],
      "metadata": {
        "id": "noZtMd2u4GPc"
      }
    },
    {
      "cell_type": "code",
      "source": [
        "vocab_size = len(tokenizer.word_index) + 1\n",
        "vocab_size"
      ],
      "metadata": {
        "execution": {
          "iopub.status.busy": "2023-01-25T12:09:50.869906Z",
          "iopub.execute_input": "2023-01-25T12:09:50.870274Z",
          "iopub.status.idle": "2023-01-25T12:09:50.876653Z",
          "shell.execute_reply.started": "2023-01-25T12:09:50.870243Z",
          "shell.execute_reply": "2023-01-25T12:09:50.875558Z"
        },
        "trusted": true,
        "id": "w82kmotb4GPc"
      },
      "execution_count": null,
      "outputs": []
    },
    {
      "cell_type": "markdown",
      "source": [
        "# LSTM Model"
      ],
      "metadata": {
        "id": "xP2L3D1x4GPc"
      }
    },
    {
      "cell_type": "code",
      "source": [
        "model = tf.keras.Sequential([tf.keras.layers.Embedding(vocab_size,49 ),\n",
        "                            tf.keras.layers.LSTM(100, return_sequences = True),\n",
        "                            tf.keras.layers.LSTM(100),\n",
        "                            tf.keras.layers.Dense(100, activation = 'relu'),\n",
        "                            tf.keras.layers.Dense(vocab_size, activation = 'softmax')])"
      ],
      "metadata": {
        "execution": {
          "iopub.status.busy": "2023-01-25T12:17:06.375114Z",
          "iopub.execute_input": "2023-01-25T12:17:06.37548Z",
          "iopub.status.idle": "2023-01-25T12:17:07.215342Z",
          "shell.execute_reply.started": "2023-01-25T12:17:06.375449Z",
          "shell.execute_reply": "2023-01-25T12:17:07.2144Z"
        },
        "trusted": true,
        "id": "vQGEZC9J4GPc"
      },
      "execution_count": null,
      "outputs": []
    },
    {
      "cell_type": "code",
      "source": [
        "model.summary()"
      ],
      "metadata": {
        "execution": {
          "iopub.status.busy": "2023-01-25T12:17:10.464126Z",
          "iopub.execute_input": "2023-01-25T12:17:10.464519Z",
          "iopub.status.idle": "2023-01-25T12:17:10.471169Z",
          "shell.execute_reply.started": "2023-01-25T12:17:10.464488Z",
          "shell.execute_reply": "2023-01-25T12:17:10.470124Z"
        },
        "trusted": true,
        "id": "I_vlu3pB4GPd"
      },
      "execution_count": null,
      "outputs": []
    },
    {
      "cell_type": "code",
      "source": [
        "model.compile(loss  = 'categorical_crossentropy',\n",
        "             optimizer = 'adam',\n",
        "             metrics = ['accuracy'],\n",
        "             )"
      ],
      "metadata": {
        "execution": {
          "iopub.status.busy": "2023-01-25T12:20:43.875096Z",
          "iopub.execute_input": "2023-01-25T12:20:43.87611Z",
          "iopub.status.idle": "2023-01-25T12:20:43.891211Z",
          "shell.execute_reply.started": "2023-01-25T12:20:43.876073Z",
          "shell.execute_reply": "2023-01-25T12:20:43.890042Z"
        },
        "trusted": true,
        "id": "V7UipTdL4GPd"
      },
      "execution_count": null,
      "outputs": []
    },
    {
      "cell_type": "code",
      "source": [
        "history = model.fit(x,y,\n",
        "                   epochs = 100,\n",
        "                    batch_size = 256,\n",
        "                    callbacks = tf.keras.callbacks.EarlyStopping(monitor = 'val_loss',\n",
        "                                                               patience = 5,\n",
        "                                                               restore_best_weights = True))"
      ],
      "metadata": {
        "execution": {
          "iopub.status.busy": "2023-01-25T12:22:51.659888Z",
          "iopub.execute_input": "2023-01-25T12:22:51.660251Z",
          "iopub.status.idle": "2023-01-25T12:31:17.104398Z",
          "shell.execute_reply.started": "2023-01-25T12:22:51.660221Z",
          "shell.execute_reply": "2023-01-25T12:31:17.103385Z"
        },
        "trusted": true,
        "id": "4id4hAap4GPd"
      },
      "execution_count": null,
      "outputs": []
    },
    {
      "cell_type": "markdown",
      "source": [
        "# Saving model"
      ],
      "metadata": {
        "id": "bRa-v_9M4GPd"
      }
    },
    {
      "cell_type": "code",
      "source": [
        "model.save('model.h5')"
      ],
      "metadata": {
        "execution": {
          "iopub.status.busy": "2023-01-25T12:31:17.873722Z",
          "iopub.execute_input": "2023-01-25T12:31:17.874072Z",
          "iopub.status.idle": "2023-01-25T12:31:17.931214Z",
          "shell.execute_reply.started": "2023-01-25T12:31:17.874035Z",
          "shell.execute_reply": "2023-01-25T12:31:17.930232Z"
        },
        "trusted": true,
        "id": "U-I6KZbb4GPd"
      },
      "execution_count": null,
      "outputs": []
    },
    {
      "cell_type": "markdown",
      "source": [
        "# Vocab Array : list of all the unique words"
      ],
      "metadata": {
        "id": "nxOS5V7S4GPe"
      }
    },
    {
      "cell_type": "code",
      "source": [
        "vocab_array = np.array(list(tokenizer.word_index.keys()))\n",
        "vocab_array"
      ],
      "metadata": {
        "execution": {
          "iopub.status.busy": "2023-01-25T12:33:09.510444Z",
          "iopub.execute_input": "2023-01-25T12:33:09.510831Z",
          "iopub.status.idle": "2023-01-25T12:33:09.519935Z",
          "shell.execute_reply.started": "2023-01-25T12:33:09.5108Z",
          "shell.execute_reply": "2023-01-25T12:33:09.518629Z"
        },
        "trusted": true,
        "id": "5XOS0fLm4GPe"
      },
      "execution_count": null,
      "outputs": []
    },
    {
      "cell_type": "markdown",
      "source": [
        "# Final Function for Predictions"
      ],
      "metadata": {
        "id": "iGwRll7g4GPe"
      }
    },
    {
      "cell_type": "code",
      "source": [
        "def make_predictions(text, n_words):\n",
        "    for i in range(n_words):\n",
        "        text_tokenize = tokenizer.texts_to_sequences([text])\n",
        "        text_padding  = tf.keras.preprocessing.sequence.pad_sequences(text_tokenize, maxlen = 49)\n",
        "        prediction = np.squeeze(np.argmax(model.predict(text_padding), axis = -1))\n",
        "        prediction = str(vocab_array[prediction - 1])\n",
        "        text += \" \" + prediction\n",
        "    return text"
      ],
      "metadata": {
        "execution": {
          "iopub.status.busy": "2023-01-25T12:35:56.936093Z",
          "iopub.execute_input": "2023-01-25T12:35:56.936456Z",
          "iopub.status.idle": "2023-01-25T12:35:56.944771Z",
          "shell.execute_reply.started": "2023-01-25T12:35:56.936425Z",
          "shell.execute_reply": "2023-01-25T12:35:56.9418Z"
        },
        "trusted": true,
        "id": "WuyslBTD4GPe"
      },
      "execution_count": null,
      "outputs": []
    },
    {
      "cell_type": "markdown",
      "source": [
        "# Testing Model"
      ],
      "metadata": {
        "id": "wvWmvfHK4GPe"
      }
    },
    {
      "cell_type": "code",
      "source": [
        "make_predictions('california',5)"
      ],
      "metadata": {
        "execution": {
          "iopub.status.busy": "2023-01-25T12:35:58.279928Z",
          "iopub.execute_input": "2023-01-25T12:35:58.28029Z",
          "iopub.status.idle": "2023-01-25T12:35:58.465619Z",
          "shell.execute_reply.started": "2023-01-25T12:35:58.28026Z",
          "shell.execute_reply": "2023-01-25T12:35:58.464678Z"
        },
        "trusted": true,
        "id": "NEdKjXwm4GPl"
      },
      "execution_count": null,
      "outputs": []
    },
    {
      "cell_type": "code",
      "source": [
        "make_predictions('new york',8)"
      ],
      "metadata": {
        "execution": {
          "iopub.status.busy": "2023-01-25T12:36:23.620339Z",
          "iopub.execute_input": "2023-01-25T12:36:23.620731Z",
          "iopub.status.idle": "2023-01-25T12:36:23.948651Z",
          "shell.execute_reply.started": "2023-01-25T12:36:23.620675Z",
          "shell.execute_reply": "2023-01-25T12:36:23.947618Z"
        },
        "trusted": true,
        "id": "aYSNewC34GPl"
      },
      "execution_count": null,
      "outputs": []
    },
    {
      "cell_type": "code",
      "source": [
        "make_predictions('highway',8)"
      ],
      "metadata": {
        "execution": {
          "iopub.status.busy": "2023-01-25T12:37:09.820082Z",
          "iopub.execute_input": "2023-01-25T12:37:09.820437Z",
          "iopub.status.idle": "2023-01-25T12:37:10.130027Z",
          "shell.execute_reply.started": "2023-01-25T12:37:09.820408Z",
          "shell.execute_reply": "2023-01-25T12:37:10.129172Z"
        },
        "trusted": true,
        "id": "i0PZa5wS4GPm"
      },
      "execution_count": null,
      "outputs": []
    },
    {
      "cell_type": "markdown",
      "source": [
        "> Its so fun to get prediction !\n",
        "\n",
        "# Thanks!"
      ],
      "metadata": {
        "id": "NMxPHMwo4GPm"
      }
    }
  ]
}